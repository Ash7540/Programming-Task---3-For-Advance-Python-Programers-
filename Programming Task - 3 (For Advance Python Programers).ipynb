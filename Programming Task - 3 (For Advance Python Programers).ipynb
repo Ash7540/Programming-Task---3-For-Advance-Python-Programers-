{
 "cells": [
  {
   "cell_type": "code",
   "execution_count": null,
   "id": "e131c2e0",
   "metadata": {},
   "outputs": [],
   "source": [
    "# Maximum Product of Two Elements in an Array\n",
    "class Solution:\n",
    "    def maxProduct(self, nums: List[int]) -> int:\n",
    "        a = len(nums)-1\n",
    "        for m in range (a):\n",
    "            swap = False\n",
    "            for n in range (a-m):\n",
    "                if nums[n]>nums[n+1]:\n",
    "                    x = nums[n+1]\n",
    "                    nums[n+1]= nums[n]\n",
    "                    nums[n]= x\n",
    "                    swap = True \n",
    "            if not swap :\n",
    "                break\n",
    "                \n",
    "        return (nums[-1]-1)*(nums[-2]-1)"
   ]
  },
  {
   "cell_type": "code",
   "execution_count": null,
   "id": "dcf2fa9b",
   "metadata": {},
   "outputs": [],
   "source": [
    "# Count Number of Teams\n",
    "import bisect\n",
    "class Solution:\n",
    "    def numTeams(self, rating: List[int]) -> int:\n",
    "        le = []\n",
    "        ri = sorted(rating) #nlogn  \n",
    "        result =0\n",
    "        for i in rating:\n",
    "            ri.remove(i)             \n",
    "            r_small = bisect.bisect(ri,i)\n",
    "            r_large = len(ri) - r_small     \n",
    "            l_small = bisect.bisect(le,i)\n",
    "            l_large = len(le) - l_small     \n",
    "            result += l_small*r_large + l_large*r_small     \n",
    "            le.insert(l_small,i)\n",
    "        return result"
   ]
  },
  {
   "cell_type": "code",
   "execution_count": null,
   "id": "ac6f3470",
   "metadata": {},
   "outputs": [],
   "source": [
    "# Number of Students Doing Homework at a Given Time\n",
    "class Solution:\n",
    "    def busyStudent(self, startTime: List[int], endTime: List[int], queryTime: int) -> int:\n",
    "        answer = 0\n",
    "        for i in range(len(startTime)):\n",
    "            if startTime[i] <= queryTime <= endTime[i]:\n",
    "                answer += 1\n",
    "        return answer"
   ]
  },
  {
   "cell_type": "code",
   "execution_count": null,
   "id": "a830385f",
   "metadata": {},
   "outputs": [],
   "source": [
    "# Number of Steps to Reduce a Number to Zero\n",
    "class Solution:\n",
    "    def numberOfSteps(self, num: int) -> int:\n",
    "        a = 0\n",
    "        while num != 0:\n",
    "            if num % 2 == 0:\n",
    "                num /= 2\n",
    "            else:\n",
    "                num -= 1\n",
    "            a += 1\n",
    "        return a"
   ]
  },
  {
   "cell_type": "code",
   "execution_count": null,
   "id": "53fe3cfc",
   "metadata": {},
   "outputs": [],
   "source": [
    "# Counting Bits\n",
    "class Solution:\n",
    "    def countBits(self, n: int) -> List[int]:\n",
    "        answer = [0] * (n+1) \n",
    "        count = 0 \n",
    "        for i in range(1,n+1):\n",
    "            bins = bin(i)[2:] \n",
    "            for j in str(bins):\n",
    "                if j == \"1\": \n",
    "                    count += 1 \n",
    "                answer[i] = count \n",
    "            count = 0\n",
    "        return (answer)"
   ]
  }
 ],
 "metadata": {
  "kernelspec": {
   "display_name": "Python 3 (ipykernel)",
   "language": "python",
   "name": "python3"
  },
  "language_info": {
   "codemirror_mode": {
    "name": "ipython",
    "version": 3
   },
   "file_extension": ".py",
   "mimetype": "text/x-python",
   "name": "python",
   "nbconvert_exporter": "python",
   "pygments_lexer": "ipython3",
   "version": "3.9.12"
  }
 },
 "nbformat": 4,
 "nbformat_minor": 5
}
